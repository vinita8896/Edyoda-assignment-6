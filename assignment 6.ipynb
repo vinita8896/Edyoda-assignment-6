{
 "cells": [
  {
   "cell_type": "markdown",
   "id": "48ad66c9",
   "metadata": {},
   "source": [
    "# 1. Create a JSON file (employee.json) containing employee information of minimum 5 employees. Each employee information consists of Name, DOB, Height, City, State. Write a python program that reads this information from the JSON file and saves the information into a list of objects of Employee class. Finally print the list of the Employee objects."
   ]
  },
  {
   "cell_type": "code",
   "execution_count": 4,
   "id": "2bda0a39",
   "metadata": {},
   "outputs": [],
   "source": [
    "import json\n",
    "\n",
    "# Create a dictionary of Employee\n",
    "employee=[\n",
    "    {\n",
    "        \"Name\": \"Ramesh shukla\",\n",
    "        \"DOB\": \"1990-05-15\",\n",
    "        \"Height\": 175,\n",
    "        \"City\": \"South west\",\n",
    "        \"State\": \"New delhi\"\n",
    "    },\n",
    "    {\n",
    "        \"Name\": \"Ankita thakur\",\n",
    "        \"DOB\": \"1999-03-20\",\n",
    "        \"Height\": 163,\n",
    "        \"City\": \"Gorakhpur\",\n",
    "        \"State\": \"Utter pradesh\"\n",
    "    },\n",
    "    {\n",
    "        \"Name\": \"Shubham sharma\",\n",
    "        \"DOB\": \"1997-09-10\",\n",
    "        \"Height\": 182,\n",
    "        \"City\": \"Dharavi\",\n",
    "        \"State\": \"Mumbai\"\n",
    "    },\n",
    "    {\n",
    "        \"Name\": \"Ekta nigam\",\n",
    "        \"DOB\": \"1988-12-03\",\n",
    "        \"Height\": 170,\n",
    "        \"City\": \"Bhatinda\",\n",
    "        \"State\": \"Punjab\"\n",
    "    },\n",
    "    {\n",
    "        \"Name\": \"Sneha Mrigwani\",\n",
    "        \"DOB\": \"2000-07-25\",\n",
    "        \"Height\": 178,\n",
    "        \"City\": \"Gurugram\",\n",
    "        \"State\": \"Hariyana\"\n",
    "    }\n",
    "]\n"
   ]
  },
  {
   "cell_type": "code",
   "execution_count": 5,
   "id": "3bbb0feb",
   "metadata": {},
   "outputs": [
    {
     "name": "stdout",
     "output_type": "stream",
     "text": [
      "Data has been written to employee.json.\n"
     ]
    }
   ],
   "source": [
    "# Write the dictionary to a JSON file\n",
    "with open('employee.json', 'w') as json_file:\n",
    "    json.dump(employee, json_file)\n",
    "\n",
    "print(\"Data has been written to employee.json.\")"
   ]
  },
  {
   "cell_type": "code",
   "execution_count": 6,
   "id": "29d89ff8",
   "metadata": {},
   "outputs": [
    {
     "name": "stdout",
     "output_type": "stream",
     "text": [
      "Name: Ramesh shukla\n",
      "DOB: 1990-05-15\n",
      "Height: 175\n",
      "City: South west\n",
      "State: New delhi\n",
      "\n",
      "Name: Ankita thakur\n",
      "DOB: 1999-03-20\n",
      "Height: 163\n",
      "City: Gorakhpur\n",
      "State: Utter pradesh\n",
      "\n",
      "Name: Shubham sharma\n",
      "DOB: 1997-09-10\n",
      "Height: 182\n",
      "City: Dharavi\n",
      "State: Mumbai\n",
      "\n",
      "Name: Ekta nigam\n",
      "DOB: 1988-12-03\n",
      "Height: 170\n",
      "City: Bhatinda\n",
      "State: Punjab\n",
      "\n",
      "Name: Sneha Mrigwani\n",
      "DOB: 2000-07-25\n",
      "Height: 178\n",
      "City: Gurugram\n",
      "State: Hariyana\n",
      "\n"
     ]
    }
   ],
   "source": [
    "import json\n",
    "\n",
    "class Employee:\n",
    "    def __init__(self, name, dob, height, city, state):\n",
    "        self.name = name\n",
    "        self.dob = dob\n",
    "        self.height = height\n",
    "        self.city = city\n",
    "        self.state = state\n",
    "\n",
    "# Read the data from employee.json\n",
    "with open('employee.json', 'r') as file:\n",
    "    employee_data = json.load(file)\n",
    "\n",
    "# Create a list of Employee objects\n",
    "employee_objects = []\n",
    "for employee_info in employee_data:\n",
    "    employee = Employee(\n",
    "        employee_info['Name'],\n",
    "        employee_info['DOB'],\n",
    "        employee_info['Height'],\n",
    "        employee_info['City'],\n",
    "        employee_info['State']\n",
    "    )\n",
    "    employee_objects.append(employee)\n",
    "\n",
    "# Print the list of Employee objects\n",
    "for employee in employee_objects:\n",
    "    print(f\"Name: {employee.name}\")\n",
    "    print(f\"DOB: {employee.dob}\")\n",
    "    print(f\"Height: {employee.height}\")\n",
    "    print(f\"City: {employee.city}\")\n",
    "    print(f\"State: {employee.state}\")\n",
    "    print()\n"
   ]
  },
  {
   "cell_type": "markdown",
   "id": "e91793ba",
   "metadata": {},
   "source": [
    "# 2 . Create a dictionary of any 7 Indian states and their capitals. Write this into a JSON file."
   ]
  },
  {
   "cell_type": "code",
   "execution_count": 1,
   "id": "a4420145",
   "metadata": {},
   "outputs": [
    {
     "name": "stdout",
     "output_type": "stream",
     "text": [
      "Data has been written to indian_states_and_capitals.json\n"
     ]
    }
   ],
   "source": [
    "import json\n",
    "\n",
    "# Create a dictionary of Indian states and their capitals\n",
    "indian_states_and_capitals = {\n",
    "    \"Andhra Pradesh\": \"Amaravati\",\n",
    "    \"Maharashtra\": \"Mumbai\",\n",
    "    \"Tamil Nadu\": \"Chennai\",\n",
    "    \"Karnataka\": \"Bengaluru\",\n",
    "    \"Telangana\": \"Hyderabad\",\n",
    "    \"Uttar Pradesh\": \"Lucknow\",\n",
    "    \"Bihar\": \"Patna\"\n",
    "}\n",
    "\n",
    "# Write the dictionary to a JSON file\n",
    "with open(\"indian_states_and_capitals.json\", \"w\") as json_file:\n",
    "    json.dump(indian_states_and_capitals, json_file, indent=4)\n",
    "\n",
    "print(\"Data has been written to indian_states_and_capitals.json\")\n"
   ]
  },
  {
   "cell_type": "markdown",
   "id": "ee2fc01f",
   "metadata": {},
   "source": [
    "# Assignment 2"
   ]
  },
  {
   "cell_type": "markdown",
   "id": "7fd8079f",
   "metadata": {},
   "source": [
    "# Create a class named ‘Dog’. It should have a constructor which accepts its name, age and coat color. You must perform the following operations:\n",
    "\n",
    "🔴 a. It should have a function ‘description()’ which prints the name and age of the dog.\n",
    "🔴 b. It should have a function ‘get_info()’ which prints the coat color of the dog.\n",
    "🔴 c. Create child classes ‘JackRussellTerrier’ and ‘Bulldog’ which is inherited from the class ‘Dog’. It should have at least two methods of its own.\n",
    "🔴 d. Create objects and implement the above functionalities."
   ]
  },
  {
   "cell_type": "code",
   "execution_count": 3,
   "id": "dda4aeaf",
   "metadata": {},
   "outputs": [
    {
     "name": "stdout",
     "output_type": "stream",
     "text": [
      "Rusty is 3 years old.\n",
      "Rusty's coat color is white and brown.\n",
      "Rusty is barking loudly!\n",
      "Rusty is performing a special trick: jumping through hoops\n",
      "Spike is 5 years old.\n",
      "Spike's coat color is brindle.\n",
      "Spike is taking a nap.\n",
      "Spike is eating.\n"
     ]
    }
   ],
   "source": [
    "class Dog:\n",
    "    def __init__(self, name, age, coat_color):\n",
    "        self.name = name\n",
    "        self.age = age\n",
    "        self.coat_color = coat_color\n",
    "\n",
    "    def description(self):\n",
    "        print(f\"{self.name} is {self.age} years old.\")\n",
    "\n",
    "    def get_info(self):\n",
    "        print(f\"{self.name}'s coat color is {self.coat_color}.\")\n",
    "\n",
    "class JackRussellTerrier(Dog):\n",
    "    def __init__(self, name, age, coat_color, special_skill):\n",
    "        super().__init__(name, age, coat_color)\n",
    "        self.special_skill = special_skill\n",
    "\n",
    "    def bark(self):\n",
    "        print(f\"{self.name} is barking loudly!\")\n",
    "\n",
    "    def do_trick(self):\n",
    "        print(f\"{self.name} is performing a special trick: {self.special_skill}\")\n",
    "\n",
    "class Bulldog(Dog):\n",
    "    def __init__(self, name, age, coat_color, weight):\n",
    "        super().__init__(name, age, coat_color)\n",
    "        self.weight = weight\n",
    "\n",
    "    def sleep(self):\n",
    "        print(f\"{self.name} is taking a nap.\")\n",
    "\n",
    "    def eat(self):\n",
    "        print(f\"{self.name} is eating.\")\n",
    "\n",
    "# Create Dog objects\n",
    "dog1 = JackRussellTerrier(\"Rusty\", 3, \"white and brown\", \"jumping through hoops\")\n",
    "dog2 = Bulldog(\"Spike\", 5, \"brindle\", \"25 kg\")\n",
    "\n",
    "# Call methods on Dog objects\n",
    "dog1.description()\n",
    "dog1.get_info()\n",
    "dog1.bark()\n",
    "dog1.do_trick()\n",
    "\n",
    "dog2.description()\n",
    "dog2.get_info()\n",
    "dog2.sleep()\n",
    "dog2.eat()\n"
   ]
  }
 ],
 "metadata": {
  "kernelspec": {
   "display_name": "Python 3 (ipykernel)",
   "language": "python",
   "name": "python3"
  },
  "language_info": {
   "codemirror_mode": {
    "name": "ipython",
    "version": 3
   },
   "file_extension": ".py",
   "mimetype": "text/x-python",
   "name": "python",
   "nbconvert_exporter": "python",
   "pygments_lexer": "ipython3",
   "version": "3.10.9"
  }
 },
 "nbformat": 4,
 "nbformat_minor": 5
}
